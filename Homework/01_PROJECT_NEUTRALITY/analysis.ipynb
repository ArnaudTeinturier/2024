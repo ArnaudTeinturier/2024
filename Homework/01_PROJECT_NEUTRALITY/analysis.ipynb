{
 "cells": [
  {
   "cell_type": "markdown",
   "id": "579b567a-2b80-4bf1-8cc1-c514da76ca50",
   "metadata": {},
   "source": [
    "# (ADA) Homework 1: Scoring the Language Model Olympics\n",
    "\n",
    "---\n",
    "\n",
    "By the end of this homework, we expect you to be able to:\n",
    "\n",
    "- Load data and handle data using pandas;\n",
    "- Navigate the documentation of Python packages by yourself;\n",
    "- Filter and tidy up noisy real-world datasets;\n",
    "- Aggregate your data in different (and hopefully helpful) ways;\n",
    "- Create meaningful visualizations to analyze the data;\n",
    "- Communicate your findings in a clear and concise manner\n",
    "\n",
    "---\n",
    "\n",
    "**Important Dates.**\n",
    "\n",
    "- Homework release: Fri 04 Oct 2024\n",
    "- Homework due: Sat 18 Oct 2024, 23:59\n",
    "- Grade release: Mon 04 Nov 2024\n",
    "\n",
    "**Some rules**\n",
    "\n",
    "- You are allowed to use any built-in Python library that comes with Anaconda. If you want to use an external library, you may do so, but must justify your choice.\n",
    "- Make sure you use the data folder provided in the repository in read-only mode. (Or alternatively, be sure you don’t change any of the files.)\n",
    "- Be sure to provide a concise textual description of your thought process, the assumptions you made, the solution you implemented, and explanations for your answers. A notebook that only has code cells will not suffice. To avoid confusion: use short comments for longer code answers.\n",
    "- For questions containing the /Discuss:/ prefix, answer not with code, but with a textual explanation (in markdown).\n",
    "- Back up any hypotheses and claims with data, since this is an important aspect of the course.\n",
    "- Please write all your comments in English, and use meaningful variable names in your code. Your repo should have a single notebook (plus the required data files) in the master/main branch. If there are multiple notebooks present, we will not grade anything.\n",
    "- We will not run your notebook for you! Rather, we will grade it as is, which means that only the results contained in your evaluated code cells will be considered, and we will not see the results in unevaluated code cells. Thus, be sure to hand in a fully-run and evaluated notebook. In order to check whether everything looks as intended, you can check the rendered notebook on the GitHub website once you have pushed your solution there.\n",
    "- In continuation to the previous point, interactive plots, such as those generated using the ‘plotly’ package, should be strictly avoided! Make sure to print results and/or dataframes that confirm you have properly addressed the task.\n",
    "\n",
    "**A Note on using Language Models (LMs)**\n",
    "\n",
    "If you try hard enough, you will likely get away with cheating. Fortunately, our job is not to police, but rather to educate! So, please consider the following:\n",
    "- Presumably, you are taking this course to learn something! LMs are not always right ([they often fail in silly ways](https://community.openai.com/t/why-9-11-is-larger-than-9-9-incredible/869824/4)). This course should prepare you to detect when they are wrong!\n",
    "- Some of the TAs on this course literally published many works on detecting machine-generated text.\n",
    "---"
   ]
  },
  {
   "cell_type": "markdown",
   "id": "4f85896e-c0ae-4ae3-af41-46149faa2278",
   "metadata": {},
   "source": [
    "## Context\n",
    "\n",
    "Context\n",
    "AI is booming! Newspapers, influencers, and your relatives all agree that AI is important. But while almost everyone agrees that AI is the future, much is unclear about what that future looks like…\n",
    "\n",
    "Freshly graduated from the EPFL, you are hired by the Swiss government to advise on a large-scale “AI integration” initiative code-named **\"NEUTRALITY\"** (Navigating Efficient Upgrades Through Robust Artificial Learning Integration Techniques Yearly). Convinced by the stunning progress in language modeling, the government would like to battle the growing shortages in the education sector by using LMs. Your job description: investigate which LMs might be best suited!\n",
    "\n",
    "You are given the results of three LMs on the [“Massive Multitask Language Understanding (MMLU)”](https://arxiv.org/abs/2009.03300) dataset to compare. This famous dataset consists of 57 subjects with multiple-choice questions, covering diverse subjects like mathematics, computer science, history, and law. Most providers of state-of-the-art LMs use this dataset to showcase the versatility of their latest models. Unfortunately, Horta-Ribeiro, the intern responsible for collecting the results, didn’t take EPFL’s famous ADA course. As a result, the collected datasets are slightly corrupted.\n",
    "\n",
    "### A very brief primer on Language Models\n",
    "Language models (LMs) are sophisticated statistical models designed to understand and generate human-like text. At their core, LMs are trained to predict the most likely continuation of a given input text. For example, given the input \"The cat sat on the,\" an LM might predict \"mat\" as a likely continuation.\n",
    "LMs are trained on vast text samples from various sources, including books, websites, and social media. This extensive training allows them to capture patterns and relationships in language, enabling them to generate coherent and contextually appropriate text across a wide range of topics and styles.\n",
    "\n",
    "While LMs can produce text that appears to be written by intelligent humans, it's important to note that their capabilities can diverge from human intelligence in unexpected ways. They may sometimes generate factually incorrect information or struggle with complex reasoning tasks.\n",
    "\n",
    "Two key concepts in understanding LMs are:\n",
    "1. **Tokens**: LMs process text using \"tokens\" rather than individual characters. Tokens can be words, parts of words, or punctuation marks. For example, the sentence \"I love AI!\" might be tokenized as [\"I\", \"love\", \"AI\", \"!\"]. Tokenization is the first step in both training and using an LM.\n",
    "2. **Context**: The input text provided to an LM is called the \"context.\" This context informs the model's predictions or generations. A longer or more specific context often leads to more accurate and relevant outputs.\n",
    "\n",
    "[See: Wikipedia entry on language models](https://en.wikipedia.org/wiki/Large_language_model)\n",
    "\n",
    "###  Files for this assignment\n",
    "This assignment is divided into three tasks, each of which should bring you a step closer to providing a recommendation toward project NEUTRALITY’s objectives:\n",
    "\n",
    "- **Task 1**: Inspecting the results and getting your first model ranking\n",
    "- **Task 2**: Inspecting the underlying data used to generate the results for possible biases\n",
    "- **Task 3**: Learning about tokens and providing a final recommendation\n",
    "\n",
    "\n",
    "```\n",
    "📁 PROJECT_NEUTRALITY\n",
    "│\n",
    "├── 📄 analysis.ipynb (the file you're currently reading!)\n",
    "├── 📄 requirements.txt (install into your environment)\n",
    "│\n",
    "├── 📁 task_1\n",
    "├── 📁 task_2\n",
    "└── 📁 task_2.5\n",
    "```   \n",
    " "
   ]
  },
  {
   "cell_type": "code",
   "execution_count": 1,
   "id": "95ce4c12-9681-401e-9489-aa0765b19d5d",
   "metadata": {},
   "outputs": [],
   "source": [
    "# please make sure you install the packages listed in the requirements.txt file in your environment!\n",
    "# using pip\n",
    "# pip install -r requirements.txt\n",
    "#\n",
    "# using Conda:\n",
    "# conda create --name <env_name> --file requirements.txt\n",
    "#\n",
    "# some basic imports\n",
    "import os\n",
    "import pandas as pd\n",
    "import numpy as np\n",
    "import matplotlib.pyplot as plt\n",
    "import warnings\n",
    "from scipy.stats import ttest_ind"
   ]
  },
  {
   "cell_type": "markdown",
   "id": "e62594ad-4f5f-4a46-80bc-deacf66b62e9",
   "metadata": {},
   "source": [
    "## Task 1 (18 points): What's in an average anyway?\n",
    "\n",
    "The files needed to complete task 1 can be found in the folder \"`data/task_1/`:\n",
    "```\n",
    "task_1/\n",
    "│\n",
    "├── mmlu_data/\n",
    "│   └── test.csv\n",
    "│\n",
    "└── lm_scores/\n",
    "    ├── lm_X.csv\n",
    "    ├── lm_Y.csv\n",
    "    └── lm_Z.csv\n",
    "```\n",
    "\n",
    "We will start by loading, (manually) inspecting, and cleaning the data. Although it doesn't seem \"glamorous\" (nor is it particularly fun...) - manually inspecting data is extremely important! In fact, it's one of the few things most AI and Data Science researchers agree on :). Next, we will take a first pass on ordering our Olympic podium between three LMs."
   ]
  },
  {
   "cell_type": "markdown",
   "id": "f8605646-79fa-4cb3-8137-b6951bd1e064",
   "metadata": {},
   "source": [
    "### 1.1 (1 pt)\n",
    " \n",
    "Load the subfiles contained in the `mmlu_data` and `lm_scores` folders into separate dataframes:\n",
    "- `df_test`\n",
    "- `df_x`\n",
    "- `df_y`\n",
    "- `df_z`\n",
    "\n",
    "for each, print their sizes."
   ]
  },
  {
   "cell_type": "code",
   "execution_count": 2,
   "id": "e6ce5e96-7de6-463d-a00b-6a4b2cfc8cb3",
   "metadata": {},
   "outputs": [
    {
     "name": "stdout",
     "output_type": "stream",
     "text": [
      "Size test:  (14042, 8)\n",
      "Size x:  (13882, 2)\n",
      "Size y:  (13978, 2)\n",
      "Size z:  (13923, 2)\n"
     ]
    }
   ],
   "source": [
    "df_test = pd.read_csv('task_1/mmlu_data/test.csv')\n",
    "df_x = pd.read_csv('task_1/lm_scores/lm_X.csv')\n",
    "df_y = pd.read_csv('task_1/lm_scores/lm_Y.csv')\n",
    "df_z = pd.read_csv('task_1/lm_scores/lm_Z.csv')\n",
    "\n",
    "print('Size test: ',df_test.shape)\n",
    "print('Size x: ',df_x.shape)\n",
    "print('Size y: ',df_y.shape)\n",
    "print('Size z: ',df_z.shape)"
   ]
  },
  {
   "cell_type": "markdown",
   "id": "acbda57d-7df2-4e33-b31c-52bc0af6753e",
   "metadata": {},
   "source": [
    "### 1.2 (4 pt)\n",
    "Unfortunately, LMs don't always output the format we want. In the column `result`, the value should be one of A, B, C, or D. \n",
    "\n",
    "A. For each of the LM score dataframes, use a `value_counts()` operation and print the results. \n",
    "\n",
    "B. /Discuss:/ Inspect the results and describe the types of answer formats you see. Besides the \"expected\" case, you should be able to find at least four unexpected formats."
   ]
  },
  {
   "cell_type": "code",
   "execution_count": 3,
   "id": "79936f23",
   "metadata": {},
   "outputs": [
    {
     "name": "stdout",
     "output_type": "stream",
     "text": [
      "For x:  result\n",
      "A                                                                                                                 2733\n",
      "A                                                                                                                 1657\n",
      "B                                                                                                                 1412\n",
      "Answer: A                                                                                                         1398\n",
      "C                                                                                                                 1134\n",
      "                                                                                                                  ... \n",
      "judicial activism, so the answer is A                                                                                1\n",
      "creating insurmountable obstacles to the founding of factions, so the answer is A                                    1\n",
      "A congressperson who retires to take a position teaching political science at a university, so the answer is A       1\n",
      "David Hume, so the answer is D                                                                                       1\n",
      "Brahminic orthodoxy, so the answer is A                                                                              1\n",
      "Name: count, Length: 145, dtype: int64\n",
      "For y:  result\n",
      "D                                                                                                2894\n",
      "Answer: D                                                                                        1718\n",
      "C                                                                                                1701\n",
      "B                                                                                                1240\n",
      "D                                                                                                1145\n",
      "                                                                                                 ... \n",
      "Where the energy of interaction between the atoms is at its minimum value, so the answer is A       1\n",
      "leaves more viable offspring than others of its species., so the answer is D                        1\n",
      "A and C only, so the answer is D                                                                    1\n",
      "ADP + P → ATP, so the answer is D                                                                   1\n",
      "Monoclonal antibodies, so the answer is C                                                           1\n",
      "Name: count, Length: 141, dtype: int64\n",
      "For z:  result\n",
      "D                                                                                   2257\n",
      "C                                                                                   2191\n",
      "B                                                                                   2127\n",
      "A                                                                                   2060\n",
      "Answer: D                                                                            777\n",
      "                                                                                    ... \n",
      "omission of a universal suffrage clause, so the answer is D                            1\n",
      "declare war, so the answer is D                                                        1\n",
      "state and local governments, by means of federal funding, so the answer is B           1\n",
      "less clearly identified with consistent political ideologies, so the answer is B       1\n",
      "Rahit, so the answer is B                                                              1\n",
      "Name: count, Length: 560, dtype: int64\n"
     ]
    }
   ],
   "source": [
    "# A\n",
    "print('For x: ',df_x['result'].value_counts())\n",
    "print('For y: ',df_y['result'].value_counts())\n",
    "print('For z: ',df_z['result'].value_counts())"
   ]
  },
  {
   "cell_type": "markdown",
   "id": "620f46cc",
   "metadata": {},
   "source": [
    "B. Regarding to the expected values (A,B,C,D), we see lot of answers which are in the wrong format like :\n",
    "- 'Answer: A'\n",
    "- sentence answer\n",
    "- None sure, None of the above\n",
    "- typo error ('A-' != 'A')"
   ]
  },
  {
   "cell_type": "markdown",
   "id": "88c5551d-1968-427b-bdd6-51d996898e7c",
   "metadata": {},
   "source": [
    "### 1.3 (5 pt)\n",
    "Oh oh... That doesn't look great. Simply dropping all invalid answers seems overly wasteful, yet fixing all of these looks like a mess! Instead, let's focus for now on fixing just those answers of length < 10 characters that require only a single `str.replace()` operation. \n",
    "\n",
    "For example, if the answer looks like `--A--`, we could fix this by using the following simple function:\n",
    "\n",
    "```\n",
    "def clean_answer(s, pattern='-'):\n",
    "    return str(s).replace(pattern, '')\n",
    "\n",
    "dirty_answer = '--A--'\n",
    "clean_answer = clean_answer(dirty_answer)\n",
    "```\n",
    "\n",
    "A. Filter the three score dataframes to include only answers with less than 10 characters. Make a deep copy of the dataframes as you filter them.\n",
    "\n",
    "B. Modify the `clean_answer()` example function to clean the answers in the filtered data frames using the `apply()` functionality. Finally, make sure **all remaining answers are one of `A, B, C, or D`.**\n",
    "\n",
    "C. /Discuss:/ Compare the sizes of the original and filtered data frames. What do you see? Why might this be a problem?"
   ]
  },
  {
   "cell_type": "code",
   "execution_count": 4,
   "id": "aef1f933-20bf-426a-ac9d-a35e273b9bd2",
   "metadata": {},
   "outputs": [],
   "source": [
    "# A\n",
    "# Copy of the dataframes\n",
    "df_xc = df_test.copy()\n",
    "df_yc = df_test.copy()\n",
    "df_zc = df_test.copy()\n",
    "\n",
    "# Filter the dataframes where result is less than 10 characters\n",
    "df_xc = df_x[df_x['result'].str.len() < 10]\n",
    "df_yc = df_y[df_y['result'].str.len() < 10]\n",
    "df_zc = df_z[df_z['result'].str.len() < 10]"
   ]
  },
  {
   "cell_type": "code",
   "execution_count": 5,
   "id": "fd54f296",
   "metadata": {},
   "outputs": [
    {
     "name": "stdout",
     "output_type": "stream",
     "text": [
      "values of X_copy result\n",
      "A    5788\n",
      "B    2965\n",
      "C    2350\n",
      "D    2333\n",
      "Name: count, dtype: int64\n",
      "values of Y_copy result\n",
      "D    5757\n",
      "C    3242\n",
      "B    2519\n",
      "A    2033\n",
      "Name: count, dtype: int64\n",
      "values of Z_copy result\n",
      "D    3348\n",
      "C    3255\n",
      "B    3124\n",
      "A    3026\n",
      "Name: count, dtype: int64\n",
      "size of X_copy (13436, 2)\n",
      "size of Y_copy (13551, 2)\n",
      "size of Z_copy (12753, 2)\n"
     ]
    },
    {
     "name": "stderr",
     "output_type": "stream",
     "text": [
      "C:\\Users\\arnau\\AppData\\Local\\Temp\\ipykernel_23816\\1547271188.py:12: SettingWithCopyWarning: \n",
      "A value is trying to be set on a copy of a slice from a DataFrame.\n",
      "Try using .loc[row_indexer,col_indexer] = value instead\n",
      "\n",
      "See the caveats in the documentation: https://pandas.pydata.org/pandas-docs/stable/user_guide/indexing.html#returning-a-view-versus-a-copy\n",
      "  df_xc.result = df_xc.result.apply(lambda x: clean_answer(x)) # Filter the answers\n",
      "C:\\Users\\arnau\\AppData\\Local\\Temp\\ipykernel_23816\\1547271188.py:15: SettingWithCopyWarning: \n",
      "A value is trying to be set on a copy of a slice from a DataFrame.\n",
      "Try using .loc[row_indexer,col_indexer] = value instead\n",
      "\n",
      "See the caveats in the documentation: https://pandas.pydata.org/pandas-docs/stable/user_guide/indexing.html#returning-a-view-versus-a-copy\n",
      "  df_yc.result = df_yc.result.apply(lambda x: clean_answer(x))\n",
      "C:\\Users\\arnau\\AppData\\Local\\Temp\\ipykernel_23816\\1547271188.py:18: SettingWithCopyWarning: \n",
      "A value is trying to be set on a copy of a slice from a DataFrame.\n",
      "Try using .loc[row_indexer,col_indexer] = value instead\n",
      "\n",
      "See the caveats in the documentation: https://pandas.pydata.org/pandas-docs/stable/user_guide/indexing.html#returning-a-view-versus-a-copy\n",
      "  df_zc.result = df_zc.result.apply(lambda x: clean_answer(x))\n"
     ]
    }
   ],
   "source": [
    "# B\n",
    "def clean_answer(s):\n",
    "    s = str(s)\n",
    "    L=['A', 'B', 'C', 'D'] # All the correct answers\n",
    "    new_X = ''\n",
    "    X = s.split() # Tokenize the answer\n",
    "    for x in X: # Check if the answer is in the list of correct answers\n",
    "        if x in L:\n",
    "            new_X = x\n",
    "    return new_X\n",
    "\n",
    "df_xc.result = df_xc.result.apply(lambda x: clean_answer(x)) # Filter the answers\n",
    "df_xc = df_xc[df_xc.result.apply(lambda x : len(str(x)) > 0)] # Remove empty answers\n",
    "\n",
    "df_yc.result = df_yc.result.apply(lambda x: clean_answer(x))\n",
    "df_yc = df_yc[df_yc.result.apply(lambda x : len(str(x)) > 0)]\n",
    "\n",
    "df_zc.result = df_zc.result.apply(lambda x: clean_answer(x))\n",
    "df_zc = df_zc[df_zc.result.apply(lambda x : len(str(x)) > 0)]\n",
    "\n",
    "print('values of X_copy', df_xc.result.value_counts())\n",
    "print('values of Y_copy', df_yc.result.value_counts())\n",
    "print('values of Z_copy', df_zc.result.value_counts())"
   ]
  },
  {
   "cell_type": "code",
   "execution_count": 8,
   "id": "9ac64188",
   "metadata": {},
   "outputs": [
    {
     "name": "stdout",
     "output_type": "stream",
     "text": [
      "Shape of x,x_copy:  (13882, 2) (13436, 2)\n",
      "Shape of y,y_copy:  (13978, 2) (13551, 2)\n",
      "Shape of z,z_copy:  (13923, 2) (12753, 2)\n"
     ]
    }
   ],
   "source": [
    "# Change of size\n",
    "print('Shape of x,x_copy: ',df_x.shape, df_xc.shape)\n",
    "print('Shape of y,y_copy: ',df_y.shape, df_yc.shape)\n",
    "print('Shape of z,z_copy: ',df_z.shape, df_zc.shape)\n"
   ]
  },
  {
   "cell_type": "markdown",
   "id": "5778ee59",
   "metadata": {},
   "source": [
    "C. We have lost some of the original data. It might be a problem if we loose to much rows, the further analysis wouldn't be representative of the original dataset. However, the cleaning is necessary to exploit the data. We can notice that in our case, we only loose approximately 3% of the data, which is not a big deal."
   ]
  },
  {
   "cell_type": "markdown",
   "id": "da1cf129-09dd-47b1-9737-2c4d57eb8853",
   "metadata": {},
   "source": [
    "### 1.4 (3 pt)\n",
    "\n",
    "Now that our answer columns are nicely formatted, let's take a look at model performance:\n",
    "\n",
    "A. Both the `MMLU` dataframes and the language model score data frames have the columns `question_id`. For each of the language model score data frames, use an inner join operation with the `df_test` dataframe on the `question_id` column.\n",
    "\n",
    "B. Add a new column to each of the resulting dataframes called `correct`, that checks if the model's answer in `result` is the same as the expected answer in the column `answer`. Then, print the average score of each model."
   ]
  },
  {
   "cell_type": "code",
   "execution_count": 11,
   "id": "e66b36f3-f5a4-4237-9b48-39b21716d7aa",
   "metadata": {},
   "outputs": [],
   "source": [
    "# A\n",
    "df_xc_test = pd.merge(df_test, df_xc, on='question_id', how='inner')\n",
    "df_yc_test = pd.merge(df_test, df_yc, on='question_id', how='inner')\n",
    "df_zc_test = pd.merge(df_test, df_zc, on='question_id', how='inner')"
   ]
  },
  {
   "cell_type": "code",
   "execution_count": 17,
   "id": "50b024d2",
   "metadata": {},
   "outputs": [
    {
     "name": "stdout",
     "output_type": "stream",
     "text": [
      "Average score x : 76.75 %\n",
      "Average score y : 74.58 %\n",
      "Average score z : 66.33 %\n"
     ]
    }
   ],
   "source": [
    "# B\n",
    "df_xc_test['correct'] = 1*(df_xc_test['result'] == df_xc_test['answer'])\n",
    "df_yc_test['correct'] = 1*(df_yc_test['result'] == df_yc_test['answer'])\n",
    "df_zc_test['correct'] = 1*(df_zc_test['result'] == df_zc_test['answer'])\n",
    "\n",
    "print('Average score x :', round(df_xc_test['correct'].mean()*100,2),'%')\n",
    "print('Average score y :', round(df_yc_test['correct'].mean()*100,2),'%')\n",
    "print('Average score z :', round(df_zc_test['correct'].mean()*100,2),'%')"
   ]
  },
  {
   "cell_type": "markdown",
   "id": "c9e3d99d",
   "metadata": {},
   "source": [
    "The average score seems to differ from one model to another."
   ]
  },
  {
   "cell_type": "markdown",
   "id": "69decfd8-8083-4c2f-8263-a153d55efede",
   "metadata": {},
   "source": [
    "### 1.5 (5 pt)\n",
    "\n",
    "Hmmm, something doesn't seem quite right. Let's investigate how \"balanced\" this dataset is:\n",
    "\n",
    "A. For each of the 57 subjects in the MMLU, compare the number of questions answered by each model. Print the subjects for which there is a more than 10% difference.\n",
    "\n",
    "B. Propose and implement a reasonable way to rebalance the results. (e.g., while throwing away 100% of the results perfectly rebalances the results, it is not reasonable).\n",
    "\n",
    "C. Finally, print the updated accuracy on the rebalanced data.\n",
    "\n",
    "**hint:**:\n",
    "- (A) For a given subject, let model X and model Y have answered 181 and 200 questions respectively. You can consider this a 10% difference from the perspective of X since: (200 - 181) / 181 > 0.10"
   ]
  },
  {
   "cell_type": "code",
   "execution_count": 23,
   "id": "19463002-732b-405b-8b44-77f702bdb665",
   "metadata": {},
   "outputs": [
    {
     "data": {
      "text/html": [
       "<div>\n",
       "<style scoped>\n",
       "    .dataframe tbody tr th:only-of-type {\n",
       "        vertical-align: middle;\n",
       "    }\n",
       "\n",
       "    .dataframe tbody tr th {\n",
       "        vertical-align: top;\n",
       "    }\n",
       "\n",
       "    .dataframe thead th {\n",
       "        text-align: right;\n",
       "    }\n",
       "</style>\n",
       "<table border=\"1\" class=\"dataframe\">\n",
       "  <thead>\n",
       "    <tr style=\"text-align: right;\">\n",
       "      <th></th>\n",
       "      <th>x</th>\n",
       "      <th>y</th>\n",
       "      <th>z</th>\n",
       "      <th>x/y</th>\n",
       "      <th>x/z</th>\n",
       "      <th>y/z</th>\n",
       "    </tr>\n",
       "    <tr>\n",
       "      <th>subject</th>\n",
       "      <th></th>\n",
       "      <th></th>\n",
       "      <th></th>\n",
       "      <th></th>\n",
       "      <th></th>\n",
       "      <th></th>\n",
       "    </tr>\n",
       "  </thead>\n",
       "  <tbody>\n",
       "    <tr>\n",
       "      <th>college chemistry</th>\n",
       "      <td>96</td>\n",
       "      <td>98</td>\n",
       "      <td>84</td>\n",
       "      <td>0.020833</td>\n",
       "      <td>0.142857</td>\n",
       "      <td>0.166667</td>\n",
       "    </tr>\n",
       "    <tr>\n",
       "      <th>college computer science</th>\n",
       "      <td>97</td>\n",
       "      <td>98</td>\n",
       "      <td>84</td>\n",
       "      <td>0.010309</td>\n",
       "      <td>0.154762</td>\n",
       "      <td>0.166667</td>\n",
       "    </tr>\n",
       "    <tr>\n",
       "      <th>computer security</th>\n",
       "      <td>95</td>\n",
       "      <td>98</td>\n",
       "      <td>87</td>\n",
       "      <td>0.031579</td>\n",
       "      <td>0.091954</td>\n",
       "      <td>0.126437</td>\n",
       "    </tr>\n",
       "    <tr>\n",
       "      <th>formal logic</th>\n",
       "      <td>109</td>\n",
       "      <td>123</td>\n",
       "      <td>113</td>\n",
       "      <td>0.128440</td>\n",
       "      <td>0.036697</td>\n",
       "      <td>0.088496</td>\n",
       "    </tr>\n",
       "    <tr>\n",
       "      <th>high school geography</th>\n",
       "      <td>195</td>\n",
       "      <td>193</td>\n",
       "      <td>176</td>\n",
       "      <td>0.010363</td>\n",
       "      <td>0.107955</td>\n",
       "      <td>0.096591</td>\n",
       "    </tr>\n",
       "    <tr>\n",
       "      <th>logical fallacies</th>\n",
       "      <td>154</td>\n",
       "      <td>136</td>\n",
       "      <td>147</td>\n",
       "      <td>0.132353</td>\n",
       "      <td>0.047619</td>\n",
       "      <td>0.080882</td>\n",
       "    </tr>\n",
       "    <tr>\n",
       "      <th>medical genetics</th>\n",
       "      <td>97</td>\n",
       "      <td>98</td>\n",
       "      <td>89</td>\n",
       "      <td>0.010309</td>\n",
       "      <td>0.089888</td>\n",
       "      <td>0.101124</td>\n",
       "    </tr>\n",
       "    <tr>\n",
       "      <th>moral disputes</th>\n",
       "      <td>329</td>\n",
       "      <td>304</td>\n",
       "      <td>250</td>\n",
       "      <td>0.082237</td>\n",
       "      <td>0.316000</td>\n",
       "      <td>0.216000</td>\n",
       "    </tr>\n",
       "    <tr>\n",
       "      <th>moral scenarios</th>\n",
       "      <td>737</td>\n",
       "      <td>865</td>\n",
       "      <td>774</td>\n",
       "      <td>0.173677</td>\n",
       "      <td>0.050204</td>\n",
       "      <td>0.117571</td>\n",
       "    </tr>\n",
       "  </tbody>\n",
       "</table>\n",
       "</div>"
      ],
      "text/plain": [
       "                            x    y    z       x/y       x/z       y/z\n",
       "subject                                                              \n",
       "college chemistry          96   98   84  0.020833  0.142857  0.166667\n",
       "college computer science   97   98   84  0.010309  0.154762  0.166667\n",
       "computer security          95   98   87  0.031579  0.091954  0.126437\n",
       "formal logic              109  123  113  0.128440  0.036697  0.088496\n",
       "high school geography     195  193  176  0.010363  0.107955  0.096591\n",
       "logical fallacies         154  136  147  0.132353  0.047619  0.080882\n",
       "medical genetics           97   98   89  0.010309  0.089888  0.101124\n",
       "moral disputes            329  304  250  0.082237  0.316000  0.216000\n",
       "moral scenarios           737  865  774  0.173677  0.050204  0.117571"
      ]
     },
     "execution_count": 23,
     "metadata": {},
     "output_type": "execute_result"
    }
   ],
   "source": [
    "# A\n",
    "# For each model we get the number of questions per subject\n",
    "sub_x = df_xc_test.groupby('subject').size()\n",
    "sub_y = df_yc_test.groupby('subject').size()\n",
    "sub_z = df_zc_test.groupby('subject').size()\n",
    "df_res = pd.DataFrame({'x': sub_x, 'y': sub_y, 'z': sub_z}) # concatenate the results in a single dataframe\n",
    "\n",
    "# Compute the ratio\n",
    "df_res[\"x/y\"] = abs(df_res[\"x\"]-df_res[\"y\"])/np.minimum(df_res[\"x\"],df_res[\"y\"])\n",
    "df_res[\"x/z\"] = abs(df_res[\"x\"]-df_res[\"z\"])/np.minimum(df_res[\"x\"],df_res[\"z\"])\n",
    "df_res[\"y/z\"] = abs(df_res[\"y\"]-df_res[\"z\"])/np.minimum(df_res[\"y\"],df_res[\"z\"])\n",
    "\n",
    "# Filter subject where at least one of the ratio is greater than 0.1\n",
    "test = df_res[(df_res[\"x/y\"] > 0.1) |  (df_res[\"x/z\"] > 0.1) | (df_res[\"y/z\"] > 0.1)]\n",
    "\n",
    "test"
   ]
  },
  {
   "cell_type": "code",
   "execution_count": 53,
   "id": "e3da5a20",
   "metadata": {},
   "outputs": [],
   "source": [
    "# B\n",
    "df_xc_test_rebalanced = pd.DataFrame()\n",
    "df_yc_test_rebalanced = pd.DataFrame()\n",
    "df_zc_test_rebalanced = pd.DataFrame()\n",
    "\n",
    "# Per subject, we get the minimum number of questions answered by a model\n",
    "for sub in df_xc_test['subject'].unique():\n",
    "    min_count = int(df_res.loc[sub][['x','y','z']].min())\n",
    "    \n",
    "    # For each model, keep only a random sample of the minimum number of questions\n",
    "    df_xc_test_sample = df_xc_test[df_xc_test['subject'] == sub].sample(min_count)\n",
    "    df_yc_test_sample = df_yc_test[df_yc_test['subject'] == sub].sample(min_count)\n",
    "    df_zc_test_sample = df_zc_test[df_zc_test['subject'] == sub].sample(min_count)\n",
    "    \n",
    "    # Add them to the final dataframe\n",
    "    df_xc_test_rebalanced = pd.concat([df_xc_test_rebalanced, df_xc_test_sample])\n",
    "    df_yc_test_rebalanced = pd.concat([df_yc_test_rebalanced, df_yc_test_sample])\n",
    "    df_zc_test_rebalanced = pd.concat([df_zc_test_rebalanced, df_zc_test_sample])\n"
   ]
  },
  {
   "cell_type": "code",
   "execution_count": 55,
   "id": "affc3746",
   "metadata": {},
   "outputs": [
    {
     "name": "stdout",
     "output_type": "stream",
     "text": [
      "Average score x : 76.7 %\n",
      "Average score y : 74.55 %\n",
      "Average score z : 66.3 %\n"
     ]
    }
   ],
   "source": [
    "# C\n",
    "print('Average score x :', round(df_xc_test_rebalanced['correct'].mean()*100,2),'%')\n",
    "print('Average score y :', round(df_yc_test_rebalanced['correct'].mean()*100,2),'%')\n",
    "print('Average score z :', round(df_zc_test_rebalanced['correct'].mean()*100,2),'%')\n"
   ]
  },
  {
   "cell_type": "markdown",
   "id": "292b2f61-0529-4b6d-a3a7-af786a4d79ae",
   "metadata": {},
   "source": [
    "## Task 2 (26 points): What do you mean A > D > B > C...?\n",
    "\n",
    "Nice work! Having successfully inspected, cleaned, and rebalanced the provided data, you head over to director of the government's NEUTRALITY project. Ms. Sakota is happy with your work so far, but worried that the sloppy intern might have done more undetected damage. To be sure, she orders a new set of evaluations of all models on both MMLU and another dataset.\n",
    "\n",
    "After cleaning up and rebalancing, you are left with the concatenated score files in the second folder `task_2`:\n",
    "```\n",
    "task_2/\n",
    "│\n",
    "└── lm_scores_mmlu.csv\n",
    "│\n",
    "└── lm_scores_other.csv\n",
    "```\n",
    "\n",
    "Each has a new column called `model_name`, which is one of `X, Y` or `Z`.\n",
    "\n",
    "\n",
    "\n",
    "_NOTE: **only** use data from `task_2` and `task_2_5` for this assignment! The values in `lm_scores_mmlu.csv` will NOT be the same as the dataframes you finished in task 1. This is due to \"randomness\" or \"temperature\" in language model inference. This can slightly shift around generative results. (Conveniently: it also ensures any mistakes made in Task 1 don't propogate further ;) )_"
   ]
  },
  {
   "cell_type": "code",
   "execution_count": 56,
   "id": "a889a76b-e034-4d2f-929e-0ef1f250a0a0",
   "metadata": {},
   "outputs": [],
   "source": [
    "# PROVIDED CODE\n",
    "df_mmlu = pd.read_csv('task_2/lm_scores_mmlu.csv')\n",
    "df_other = pd.read_csv('task_2/lm_scores_other.csv')"
   ]
  },
  {
   "cell_type": "markdown",
   "id": "c31edde3-cc91-4d08-81c7-b5e98cf0ff9c",
   "metadata": {},
   "source": [
    "### 2.1 (4 pt)\n",
    "\n",
    "Let's explore the new results:\n",
    "\n",
    "A. Compute the mean accuracy and standard errors of each model on both datasets and print the results.\n",
    "\n",
    "B. Then, show your results in a bar plot using standard errors with a 95% confidence interval around the mean. Make sure the plot is easy to read and well annotated.\n",
    "\n",
    "C. /Discuss:/ the plot you created: (i) can you say that one of the models is the best? (ii) is there anything that seems odd?"
   ]
  },
  {
   "cell_type": "code",
   "execution_count": 57,
   "id": "56fe8cca-acd1-4f5e-a938-e8d3a850f220",
   "metadata": {},
   "outputs": [
    {
     "data": {
      "text/html": [
       "<div>\n",
       "<style scoped>\n",
       "    .dataframe tbody tr th:only-of-type {\n",
       "        vertical-align: middle;\n",
       "    }\n",
       "\n",
       "    .dataframe tbody tr th {\n",
       "        vertical-align: top;\n",
       "    }\n",
       "\n",
       "    .dataframe thead th {\n",
       "        text-align: right;\n",
       "    }\n",
       "</style>\n",
       "<table border=\"1\" class=\"dataframe\">\n",
       "  <thead>\n",
       "    <tr style=\"text-align: right;\">\n",
       "      <th></th>\n",
       "      <th>model</th>\n",
       "      <th>mmlu_mean</th>\n",
       "      <th>mmlu_ste</th>\n",
       "      <th>other_mean</th>\n",
       "      <th>other_ste</th>\n",
       "    </tr>\n",
       "  </thead>\n",
       "  <tbody>\n",
       "    <tr>\n",
       "      <th>0</th>\n",
       "      <td>X</td>\n",
       "      <td>0.743588</td>\n",
       "      <td>0.004038</td>\n",
       "      <td>0.787976</td>\n",
       "      <td>0.006668</td>\n",
       "    </tr>\n",
       "    <tr>\n",
       "      <th>1</th>\n",
       "      <td>Y</td>\n",
       "      <td>0.761542</td>\n",
       "      <td>0.003941</td>\n",
       "      <td>0.720936</td>\n",
       "      <td>0.007317</td>\n",
       "    </tr>\n",
       "    <tr>\n",
       "      <th>2</th>\n",
       "      <td>Z</td>\n",
       "      <td>0.655951</td>\n",
       "      <td>0.004393</td>\n",
       "      <td>0.671721</td>\n",
       "      <td>0.007660</td>\n",
       "    </tr>\n",
       "  </tbody>\n",
       "</table>\n",
       "</div>"
      ],
      "text/plain": [
       "  model  mmlu_mean  mmlu_ste  other_mean  other_ste\n",
       "0     X   0.743588  0.004038    0.787976   0.006668\n",
       "1     Y   0.761542  0.003941    0.720936   0.007317\n",
       "2     Z   0.655951  0.004393    0.671721   0.007660"
      ]
     },
     "execution_count": 57,
     "metadata": {},
     "output_type": "execute_result"
    }
   ],
   "source": [
    "# A\n",
    "# Compute the mean\n",
    "x_mmlu_mean = df_mmlu[df_mmlu['model_name'] == 'X']['correct'].mean()\n",
    "y_mmlu_mean = df_mmlu[df_mmlu['model_name'] == 'Y']['correct'].mean()\n",
    "z_mmlu_mean = df_mmlu[df_mmlu['model_name'] == 'Z']['correct'].mean()\n",
    "\n",
    "x_other_mean = df_other[df_other['model_name'] == 'X']['correct'].mean()\n",
    "y_other_mean = df_other[df_other['model_name'] == 'Y']['correct'].mean()\n",
    "z_other_mean = df_other[df_other['model_name'] == 'Z']['correct'].mean()\n",
    "\n",
    "# Compute the standard error (std/sqrt(n))\n",
    "x_mmlu_ste = df_mmlu[df_mmlu['model_name'] == 'X']['correct'].std()/np.sqrt(df_mmlu[df_mmlu['model_name'] == 'X']['correct'].count())\n",
    "y_mmlu_ste = df_mmlu[df_mmlu['model_name'] == 'Y']['correct'].std()/np.sqrt(df_mmlu[df_mmlu['model_name'] == 'Y']['correct'].count())\n",
    "z_mmlu_ste = df_mmlu[df_mmlu['model_name'] == 'Z']['correct'].std()/np.sqrt(df_mmlu[df_mmlu['model_name'] == 'Z']['correct'].count())\n",
    "\n",
    "x_other_ste = df_other[df_other['model_name'] == 'X']['correct'].std()/np.sqrt(df_other[df_other['model_name'] == 'X']['correct'].count())\n",
    "y_other_ste = df_other[df_other['model_name'] == 'Y']['correct'].std()/np.sqrt(df_other[df_other['model_name'] == 'Y']['correct'].count())\n",
    "z_other_ste = df_other[df_other['model_name'] == 'Z']['correct'].std()/np.sqrt(df_other[df_other['model_name'] == 'Z']['correct'].count())\n",
    "\n",
    "df_results = pd.DataFrame({'model': ['X', 'Y', 'Z']})\n",
    "df_results['mmlu_mean'] = [x_mmlu_mean, y_mmlu_mean, z_mmlu_mean]\n",
    "df_results['mmlu_ste'] = [x_mmlu_ste, y_mmlu_ste, z_mmlu_ste]\n",
    "df_results['other_mean'] = [x_other_mean, y_other_mean, z_other_mean]\n",
    "df_results['other_ste'] = [x_other_ste, y_other_ste, z_other_ste]\n",
    "\n",
    "df_results"
   ]
  },
  {
   "cell_type": "code",
   "execution_count": 60,
   "id": "d3a176c6",
   "metadata": {},
   "outputs": [
    {
     "data": {
      "image/png": "[encoded data removed]",
      "text/plain": [
       "<Figure size 640x480 with 1 Axes>"
      ]
     },
     "metadata": {},
     "output_type": "display_data"
    }
   ],
   "source": [
    "# B\n",
    "# Compute the CI interval\n",
    "ic_x_mmlu = 1.96*x_mmlu_ste\n",
    "ic_y_mmlu = 1.96*y_mmlu_ste\n",
    "ic_z_mmlu = 1.96*z_mmlu_ste\n",
    "\n",
    "ic_x_other = 1.96*x_other_ste\n",
    "ic_y_other = 1.96*y_other_ste\n",
    "ic_z_other = 1.96*z_other_ste\n",
    "\n",
    "df_results['mmlu_ic'] = [ic_x_mmlu, ic_y_mmlu, ic_z_mmlu]\n",
    "df_results['other_ic'] = [ic_x_other, ic_y_other, ic_z_other]\n",
    "\n",
    "# Barplot for x_mmlu, y_mmlu, z_mmlu, x_other, y_other, z_other and IC intervals\n",
    "plt.bar(df_results['model'] + '_mmlu', df_results['mmlu_mean'], yerr=df_results['mmlu_ic'], label='mmlu', capsize=3)\n",
    "plt.bar(df_results['model'] + '_other', df_results['other_mean'], yerr=df_results['other_ic'], label='other', capsize=3)\n",
    "plt.legend()\n",
    "plt.title('Model performance')\n",
    "plt.xlabel('Model')\n",
    "plt.ylabel('Correct answers')\n",
    "plt.show()"
   ]
  },
  {
   "cell_type": "markdown",
   "id": "65c9fbfe",
   "metadata": {},
   "source": [
    "C.\n",
    "\n",
    "(i) As we see in the previous barplot, it is difficult to say which model is the best. But we can assume that Z model is less efficient compared to the others regarding the 95% confidence interval.\n",
    "\n",
    "(ii) From one dataset of questions to the other, we see that the same model has different accuracy. The 95% confidence interval don't overlap between the two datasets. It seems odd, it might be due to a different difficulty of questions between the two datasets."
   ]
  },
  {
   "cell_type": "markdown",
   "id": "eee0ec62-f2d1-4bae-a6f6-221320d602cb",
   "metadata": {},
   "source": [
    "### 2.2 (5 pt)\n",
    "\n",
    "Ms. Sakota has assured you that both datasets contain questions of similar difficulty, so, what could be going on here?\n",
    "\n",
    "A. What is the distribution of correct answers (A, B, C, D) for each dataset? Create a bar chart to visualize this.\n",
    "\n",
    "B. Perform a chi-square test at $\\alpha = 0.05$, of independence to determine if there's a significant difference in the distribution of correct answers between the two datasets. What do you conclude?\n",
    "\n",
    "**hints**:\n",
    "- for (A), keep in mind that df_mmlu and df_other contain the results of all models, i.e., the `question_id` column is duplicated.\n",
    "- for (A), take care to clearly annotate the bar chart, e.g., title, y-label, legend.\n",
    "- for (B), clearly state the null hypothesis and alternative hypothesis\n",
    "- use the `chi2_contingency` function from `scipy.stats`\n",
    "- format your results from answer (A) as a 2D array"
   ]
  },
  {
   "cell_type": "code",
   "execution_count": 72,
   "id": "30b16f70-93e0-4a19-8a6d-b3ae5a75ae65",
   "metadata": {},
   "outputs": [
    {
     "data": {
      "image/png": "[encoded data removed]",
      "text/plain": [
       "<Figure size 640x480 with 1 Axes>"
      ]
     },
     "metadata": {},
     "output_type": "display_data"
    }
   ],
   "source": [
    "# A\n",
    "answer_mmlu = df_mmlu['answer'].value_counts() / 3 # Divided by 3 because there are 3 models\n",
    "answer_other = df_other['answer'].value_counts() / 3\n",
    "\n",
    "answer_mmlu = answer_mmlu.sort_index()\n",
    "answer_other = answer_other.sort_index()\n",
    "\n",
    "# Graph parameters\n",
    "indices = np.arange(len(answer_mmlu))\n",
    "width = 0.35\n",
    "\n",
    "# Barplot of the count of expected answers\n",
    "plt.bar(indices - width/2, answer_mmlu.values, width, label='mmlu')\n",
    "plt.bar(indices + width/2, answer_other.values, width, label='other')\n",
    "plt.xticks(indices, answer_mmlu.index)\n",
    "plt.title('Distribution of expected answers')\n",
    "plt.xlabel('Expected answers')\n",
    "plt.ylabel('Count')\n",
    "plt.legend()\n",
    "plt.show()"
   ]
  },
  {
   "cell_type": "code",
   "execution_count": 80,
   "id": "92392cd7",
   "metadata": {},
   "outputs": [
    {
     "data": {
      "text/plain": [
       "Chi2ContingencyResult(statistic=629.3958675644751, pvalue=4.270849602795191e-136, dof=3, expected_freq=array([[2034.97534778, 3071.76085409, 3274.5772889 , 3314.68650922],\n",
       "       [ 654.02465222,  987.23914591, 1052.4227111 , 1065.31349078]]))"
      ]
     },
     "execution_count": 80,
     "metadata": {},
     "output_type": "execute_result"
    }
   ],
   "source": [
    "# B\n",
    "from scipy.stats import chi2_contingency\n",
    "answer_dist = [answer_mmlu.values, answer_other.values]\n",
    "answer_dist = np.array(answer_dist) # contains the count of expected answers by dataset\n",
    "chi2_contingency(answer_dist)"
   ]
  },
  {
   "cell_type": "markdown",
   "id": "e2109a84",
   "metadata": {},
   "source": [
    "B. We compute a chi2 test of independence. The null hypothesis states that the variables are independant, i.e. the distribution doesn't depend on the dataset. The alternative hypothesis states that the variables are dependant, i.e. the distribution depends on the dataset. The p-value is less than 0.05, so we reject the null hypothesis. The distribution of correct answers is significantly different between the two datasets."
   ]
  },
  {
   "cell_type": "markdown",
   "id": "2d3125ad-5a7e-44e7-999a-a0ff99855d39",
   "metadata": {},
   "source": [
    "### 2.3 (7 pt)\n",
    "\n",
    "Let's dive in deeper:\n",
    "\n",
    "A. What is language model X's mean accuracy conditioned on the four answer options for each dataset?\n",
    "\n",
    "B. Compare LM X's performance when the correct answer is \"A\" between the two datasets. Use a T-test with CI = 0.95. What do you conclude?\n",
    "\n",
    "C. Compare LM X's performance when the correct answer is \"A\" vs. \"C or D\" for each dataset. Use a T-test with CI = 0.95. What do you conclude?"
   ]
  },
  {
   "cell_type": "code",
   "execution_count": 84,
   "id": "39097a11-8efe-46d1-8bc3-5587bb58d199",
   "metadata": {},
   "outputs": [
    {
     "data": {
      "text/html": [
       "<div>\n",
       "<style scoped>\n",
       "    .dataframe tbody tr th:only-of-type {\n",
       "        vertical-align: middle;\n",
       "    }\n",
       "\n",
       "    .dataframe tbody tr th {\n",
       "        vertical-align: top;\n",
       "    }\n",
       "\n",
       "    .dataframe thead th {\n",
       "        text-align: right;\n",
       "    }\n",
       "</style>\n",
       "<table border=\"1\" class=\"dataframe\">\n",
       "  <thead>\n",
       "    <tr style=\"text-align: right;\">\n",
       "      <th></th>\n",
       "      <th>result</th>\n",
       "      <th>mmlu</th>\n",
       "      <th>other</th>\n",
       "    </tr>\n",
       "  </thead>\n",
       "  <tbody>\n",
       "    <tr>\n",
       "      <th>0</th>\n",
       "      <td>A</td>\n",
       "      <td>0.972688</td>\n",
       "      <td>0.974026</td>\n",
       "    </tr>\n",
       "    <tr>\n",
       "      <th>1</th>\n",
       "      <td>B</td>\n",
       "      <td>0.799185</td>\n",
       "      <td>0.806452</td>\n",
       "    </tr>\n",
       "    <tr>\n",
       "      <th>2</th>\n",
       "      <td>C</td>\n",
       "      <td>0.707905</td>\n",
       "      <td>0.676407</td>\n",
       "    </tr>\n",
       "    <tr>\n",
       "      <th>3</th>\n",
       "      <td>D</td>\n",
       "      <td>0.633592</td>\n",
       "      <td>0.603744</td>\n",
       "    </tr>\n",
       "  </tbody>\n",
       "</table>\n",
       "</div>"
      ],
      "text/plain": [
       "  result      mmlu     other\n",
       "0      A  0.972688  0.974026\n",
       "1      B  0.799185  0.806452\n",
       "2      C  0.707905  0.676407\n",
       "3      D  0.633592  0.603744"
      ]
     },
     "execution_count": 84,
     "metadata": {},
     "output_type": "execute_result"
    }
   ],
   "source": [
    "# A\n",
    "# Grouped by answer and filtered by model X\n",
    "mean_accuracy_x_mmlu = df_mmlu[df_mmlu['model_name'] == 'X'].groupby('answer')['correct'].mean()\n",
    "mean_accuracy_x_other = df_other[df_other['model_name'] == 'X'].groupby('answer')['correct'].mean()\n",
    "\n",
    "df_res_accuracy = pd.DataFrame({'result': mean_accuracy_x_mmlu.index})\n",
    "df_res_accuracy['mmlu'] = mean_accuracy_x_mmlu.values\n",
    "df_res_accuracy['other'] = mean_accuracy_x_other.values\n",
    "df_res_accuracy"
   ]
  },
  {
   "cell_type": "code",
   "execution_count": 86,
   "id": "9ae67c09",
   "metadata": {},
   "outputs": [
    {
     "data": {
      "text/plain": [
       "TtestResult(statistic=-0.21059510911432247, pvalue=0.8332191972699248, df=2687.0)"
      ]
     },
     "execution_count": 86,
     "metadata": {},
     "output_type": "execute_result"
    }
   ],
   "source": [
    "# B\n",
    "ttest_ind(df_mmlu[(df_mmlu['model_name'] == 'X') & (df_mmlu['answer'] == 'A')]['correct'], \n",
    "          df_other[(df_other['model_name'] == 'X') & (df_other['answer'] == 'A')]['correct'])"
   ]
  },
  {
   "cell_type": "markdown",
   "id": "a5d1138d",
   "metadata": {},
   "source": [
    "B. Using the t-test computed before, since pvalue is greater than 0.05, we can't reject the null hypothesis. This means that the mean accuracy of LM X when the correct answer is \"A\" is independant of the dataset."
   ]
  },
  {
   "cell_type": "code",
   "execution_count": 89,
   "id": "636af6a6",
   "metadata": {},
   "outputs": [
    {
     "name": "stdout",
     "output_type": "stream",
     "text": [
      "TtestResult(statistic=25.556410645761325, pvalue=5.334906497224946e-139, df=8751.0)\n",
      "TtestResult(statistic=21.66703250957516, pvalue=5.900859805611251e-96, df=2641.0)\n"
     ]
    }
   ],
   "source": [
    "# C\n",
    "# MMLU\n",
    "print(ttest_ind(df_mmlu[(df_mmlu['model_name'] == 'X') & (df_mmlu['answer'] == 'A')]['correct'], \n",
    "          df_mmlu[(df_mmlu['model_name'] == 'X') & (df_mmlu['answer'].isin(['C', 'D']))]['correct']))\n",
    "\n",
    "# Other\n",
    "print(ttest_ind(df_other[(df_other['model_name'] == 'X') & (df_other['answer'] == 'A')]['correct'], \n",
    "          df_other[(df_other['model_name'] == 'X') & (df_other['answer'].isin(['C', 'D']))]['correct']))\n",
    "\n"
   ]
  },
  {
   "cell_type": "markdown",
   "id": "25e98884",
   "metadata": {},
   "source": [
    "C. Using the t-test computed before, since pvalue is less than 0.05, we reject the null hypothesis. This means that the mean accuracy of LM X depends on whether the correct answer is \"A\" or \"C or D\". We notice that this property is true for both datasets."
   ]
  },
  {
   "cell_type": "markdown",
   "id": "33848ff9-2604-4e48-b5df-3207dc81e9a9",
   "metadata": {},
   "source": [
    "### 2.4 (2 pt)\n",
    "\n",
    "What an intriguing finding! \n",
    "\n",
    "A. Print the mean accuracies conditioned on the correct answer for all LMs for each dataset.\n",
    "\n",
    "B. /Discuss:/ What do you observe?"
   ]
  },
  {
   "cell_type": "code",
   "execution_count": 90,
   "id": "ec53ce2c-866e-440a-ac79-7813cb756782",
   "metadata": {},
   "outputs": [
    {
     "data": {
      "text/html": [
       "<div>\n",
       "<style scoped>\n",
       "    .dataframe tbody tr th:only-of-type {\n",
       "        vertical-align: middle;\n",
       "    }\n",
       "\n",
       "    .dataframe tbody tr th {\n",
       "        vertical-align: top;\n",
       "    }\n",
       "\n",
       "    .dataframe thead th {\n",
       "        text-align: right;\n",
       "    }\n",
       "</style>\n",
       "<table border=\"1\" class=\"dataframe\">\n",
       "  <thead>\n",
       "    <tr style=\"text-align: right;\">\n",
       "      <th></th>\n",
       "      <th>subject</th>\n",
       "      <th>x_mmlu</th>\n",
       "      <th>y_mmlu</th>\n",
       "      <th>z_mmlu</th>\n",
       "      <th>x_other</th>\n",
       "      <th>y_other</th>\n",
       "      <th>z_other</th>\n",
       "    </tr>\n",
       "  </thead>\n",
       "  <tbody>\n",
       "    <tr>\n",
       "      <th>0</th>\n",
       "      <td>A</td>\n",
       "      <td>0.972688</td>\n",
       "      <td>0.623836</td>\n",
       "      <td>0.643079</td>\n",
       "      <td>0.974026</td>\n",
       "      <td>0.625232</td>\n",
       "      <td>0.680891</td>\n",
       "    </tr>\n",
       "    <tr>\n",
       "      <th>1</th>\n",
       "      <td>B</td>\n",
       "      <td>0.799185</td>\n",
       "      <td>0.688073</td>\n",
       "      <td>0.641182</td>\n",
       "      <td>0.806452</td>\n",
       "      <td>0.663978</td>\n",
       "      <td>0.667563</td>\n",
       "    </tr>\n",
       "    <tr>\n",
       "      <th>2</th>\n",
       "      <td>C</td>\n",
       "      <td>0.707905</td>\n",
       "      <td>0.733470</td>\n",
       "      <td>0.669115</td>\n",
       "      <td>0.676407</td>\n",
       "      <td>0.762987</td>\n",
       "      <td>0.662338</td>\n",
       "    </tr>\n",
       "    <tr>\n",
       "      <th>3</th>\n",
       "      <td>D</td>\n",
       "      <td>0.633592</td>\n",
       "      <td>0.904252</td>\n",
       "      <td>0.661139</td>\n",
       "      <td>0.603744</td>\n",
       "      <td>0.920437</td>\n",
       "      <td>0.677067</td>\n",
       "    </tr>\n",
       "  </tbody>\n",
       "</table>\n",
       "</div>"
      ],
      "text/plain": [
       "  subject    x_mmlu    y_mmlu    z_mmlu   x_other   y_other   z_other\n",
       "0       A  0.972688  0.623836  0.643079  0.974026  0.625232  0.680891\n",
       "1       B  0.799185  0.688073  0.641182  0.806452  0.663978  0.667563\n",
       "2       C  0.707905  0.733470  0.669115  0.676407  0.762987  0.662338\n",
       "3       D  0.633592  0.904252  0.661139  0.603744  0.920437  0.677067"
      ]
     },
     "execution_count": 90,
     "metadata": {},
     "output_type": "execute_result"
    }
   ],
   "source": [
    "# A\n",
    "# MMLU\n",
    "mean_accuracy_x_mmlu = df_mmlu[df_mmlu['model_name'] == 'X'].groupby('answer')['correct'].mean()\n",
    "mean_accuracy_y_mmlu = df_mmlu[df_mmlu['model_name'] == 'Y'].groupby('answer')['correct'].mean()\n",
    "mean_accuracy_z_mmlu = df_mmlu[df_mmlu['model_name'] == 'Z'].groupby('answer')['correct'].mean()\n",
    "\n",
    "# Other\n",
    "mean_accuracy_x_other = df_other[df_other['model_name'] == 'X'].groupby('answer')['correct'].mean()\n",
    "mean_accuracy_y_other = df_other[df_other['model_name'] == 'Y'].groupby('answer')['correct'].mean()\n",
    "mean_accuracy_z_other = df_other[df_other['model_name'] == 'Z'].groupby('answer')['correct'].mean()\n",
    "\n",
    "# Create a dataframe with the results\n",
    "df_mean_accurracy = pd.DataFrame({'subject': mean_accuracy_x_mmlu.index})\n",
    "df_mean_accurracy['x_mmlu'] = mean_accuracy_x_mmlu.values\n",
    "df_mean_accurracy['y_mmlu'] = mean_accuracy_y_mmlu.values\n",
    "df_mean_accurracy['z_mmlu'] = mean_accuracy_z_mmlu.values\n",
    "df_mean_accurracy['x_other'] = mean_accuracy_x_other.values\n",
    "df_mean_accurracy['y_other'] = mean_accuracy_y_other.values\n",
    "df_mean_accurracy['z_other'] = mean_accuracy_z_other.values\n",
    "\n",
    "df_mean_accurracy"
   ]
  },
  {
   "cell_type": "markdown",
   "id": "4ce58e47",
   "metadata": {},
   "source": [
    "B. Regarding the different mean accuracy scores, it confirms our previous observations: Z is less accurate. Moreover we observe that Z model accuracy is less dependant on the correct answer compared to the other models. X and Y models seem to be influenced by the correct answer."
   ]
  },
  {
   "cell_type": "markdown",
   "id": "ccdd9d3c-5a03-4b30-84f7-a7dfbee1373e",
   "metadata": {},
   "source": [
    "### 2.5 (2 pt)\n",
    "\n",
    "Concerned with your findings so far, you quickly consult with Ms. Sakota. After thinking it over, Ms. Sakota concludes that more tests are needed. She orders a second round of MMLU results. However, the clever Ms. Sakota thinks of the following twist: while keeping questions fixed, she randomly permutes the position of the correct answer. The new results can be found in the folder `data/task_2_5/`:\n",
    "```\n",
    "task_2_5/\n",
    "│\n",
    "└── lm_scores_mmlu_shuffle.csv\n",
    "```\n",
    "\n",
    "/Discuss:/ Why would Ms. Sakota do this?"
   ]
  },
  {
   "cell_type": "markdown",
   "id": "64cc586a",
   "metadata": {},
   "source": [
    "Since we previously observed that the accuracy may depend on the correct answer, it would be interesting to change the position. By permuting randomly the position of the correct answer, Ms. Sakota wants to check if the models use the position of the correct answer to predict the right answer. If it is not the case, the models should have the same accuracy as before."
   ]
  },
  {
   "cell_type": "markdown",
   "id": "b9150ae0-dbaa-4c88-bf80-ec03127c6945",
   "metadata": {},
   "source": [
    "### 2.6 (4 pt)\n",
    "\n",
    "Increasingly sceptical of the language models' performance, you read up on proper testing practices. You stumble upon the concept of [test-rested stability](https://en.wikipedia.org/wiki/Repeatability), which roughtly states that:\n",
    "\n",
    "\"_Measurements taken by a single person or instrument on the same item, under the same conditions, and in a short period of time, should have the same results._\"\n",
    "\n",
    "In our case, we would assume an LM would have the same performance on a given question regardless of the correct answer position. One way of testing this is by using the following metric:\n",
    "\n",
    "$$\\text{test-retest metric} = \\frac{1}{N}\\sum_{i=1}^N \\frac{1}{M}\\sum_{j=1}^M c^i_0 c_j^i,$$\n",
    "\n",
    "where $c^i_0 \\in \\{0, 1\\}$ indicates whether the model answers the $i^{\\text{th}}$ question correctly (1 if correct, 0 if incorrect). $c_j^i$ indicates whether the model answers the $i^{\\text{th}}$ question correctly in the $j^{\\text{th}}$ shuffled version of the answer label content. Finally, $M$ is the total number of shuffles and $N$ is the dataset size.\n",
    "\n",
    "Task: compute the test-retest metric for each language model using the original `lm_scores_mmlu.csv` file and the new `lm_scores_mmlu_shuffle.csv` file. Using a bar plot, visualize your results by comparing the accuracy of the original `lm_scores_mmlu.csv` and the test-retest scores.\n",
    "\n",
    "**hints**\n",
    "- what is $M$ in our case?\n",
    "\n",
    "(bonus: no points, but so much sweet, sweet knowledge - check out [the following article](https://arxiv.org/pdf/2406.19470v1))"
   ]
  },
  {
   "cell_type": "markdown",
   "id": "4d88ca16",
   "metadata": {},
   "source": [
    "Knowing that M is the number of shuffles, M is 1 in our case."
   ]
  },
  {
   "cell_type": "code",
   "execution_count": 92,
   "id": "54722403",
   "metadata": {},
   "outputs": [],
   "source": [
    "df_mmlu_shuffle = pd.read_csv('task_2_5/lm_scores_mmlu_shuffle.csv')"
   ]
  },
  {
   "cell_type": "code",
   "execution_count": 96,
   "id": "5b55fcfc-6de9-4cd3-bf2d-bde399ae2fbc",
   "metadata": {},
   "outputs": [
    {
     "name": "stdout",
     "output_type": "stream",
     "text": [
      "Test-retest X: 0.588406292749658\n",
      "Test-retest Y: 0.5716484268125855\n",
      "Test-retest Z: 0.44160396716826267\n"
     ]
    }
   ],
   "source": [
    "# Function to compute the test-retest score\n",
    "def model_test_retest(model):\n",
    "    test_retest = 0\n",
    "    df_mmlu_model = df_mmlu[df_mmlu['model_name'] == model] # filter the model\n",
    "    df_mmlu_shuffle_model = df_mmlu_shuffle[df_mmlu_shuffle['model_name'] == model] # filter the model\n",
    "    N = df_mmlu_model.shape[0] # get the number of questions\n",
    "    for q_id in df_mmlu_model['question_id'].unique():\n",
    "        test_retest += 1*df_mmlu_model[df_mmlu_model['question_id'] == q_id]['correct'].values[0]*df_mmlu_shuffle_model[df_mmlu_shuffle_model['question_id'] == q_id]['correct'].values[0]\n",
    "    return test_retest/N\n",
    "\n",
    "test_retest_x = model_test_retest('X')\n",
    "test_retest_y = model_test_retest('Y')\n",
    "test_retest_z = model_test_retest('Z')\n",
    "\n",
    "print('Test-retest X:', test_retest_x)\n",
    "print('Test-retest Y:', test_retest_y)\n",
    "print('Test-retest Z:', test_retest_z)"
   ]
  },
  {
   "cell_type": "code",
   "execution_count": 125,
   "id": "29d3497f",
   "metadata": {},
   "outputs": [
    {
     "data": {
      "image/png": "[encoded data removed]",
      "text/plain": [
       "<Figure size 640x480 with 1 Axes>"
      ]
     },
     "metadata": {},
     "output_type": "display_data"
    }
   ],
   "source": [
    "# Barplot of accuracy and test-retest\n",
    "df_mean_test_retest = pd.DataFrame({'model': ['X', 'Y', 'Z']})\n",
    "df_mean_test_retest['accuracy'] = df_mmlu.groupby('model_name')['correct'].mean().values\n",
    "df_mean_test_retest['test_retest'] = [test_retest_x, test_retest_y, test_retest_z]\n",
    "\n",
    "# Graph parameters\n",
    "indices = np.arange(len(df_mean_test_retest))\n",
    "width = 0.35\n",
    "\n",
    "# Barplot of the count of expected answers\n",
    "for i in range(df_mean_test_retest.shape[0]):\n",
    "    plt.bar(indices - width/2, df_mean_test_retest['accuracy'], width, label='accuracy', color='lightblue')\n",
    "    plt.bar(indices + width/2, df_mean_test_retest['test_retest'], width, label='test-retest', color='green')\n",
    "    plt.xticks(indices, df_mean_test_retest['model'])\n",
    "    if i==0:\n",
    "        plt.legend()\n",
    "plt.title('Model performance')\n",
    "plt.xlabel('Model')\n",
    "plt.ylabel('Score')\n",
    "plt.show()"
   ]
  },
  {
   "cell_type": "markdown",
   "id": "632e5f53",
   "metadata": {},
   "source": [
    "On the previous plot, the left bar of each model represents the initial accuracy and the right bar represents the proportion of questions which stay true after one shuffle.\n",
    "We can interpret that the difference between both is coming from the answers that were influenced by the position of the correct answer."
   ]
  },
  {
   "cell_type": "markdown",
   "id": "b70bee6e-0c81-4f5a-b1a8-16a96aa2ae17",
   "metadata": {},
   "source": [
    "### 2.7 (2 pt)\n",
    "\n",
    "A. Using the unshuffled data: For each LM, print the distribution of the answers they give as well as the accuracy conditioned on the answer they give.\n",
    "\n",
    "B. /Discuss:/ Describe what you observe\n",
    "\n",
    "[bonus: not scored, but again _that sweet, sweet knowledge_] Could you think of a plausible explanation?"
   ]
  },
  {
   "cell_type": "code",
   "execution_count": 135,
   "id": "4956581b-d047-46cb-ae71-1508a9a0b466",
   "metadata": {},
   "outputs": [
    {
     "data": {
      "image/png": "[encoded data removed]",
      "text/plain": [
       "<Figure size 640x480 with 1 Axes>"
      ]
     },
     "metadata": {},
     "output_type": "display_data"
    },
    {
     "data": {
      "image/png": "[encoded data removed]",
      "text/plain": [
       "<Figure size 640x480 with 1 Axes>"
      ]
     },
     "metadata": {},
     "output_type": "display_data"
    },
    {
     "data": {
      "image/png": "[encoded data removed]",
      "text/plain": [
       "<Figure size 640x480 with 1 Axes>"
      ]
     },
     "metadata": {},
     "output_type": "display_data"
    }
   ],
   "source": [
    "# A\n",
    "for model in ['X','Y','Z']:\n",
    "    df_mmlu_model = df_mmlu[df_mmlu['model_name'] == model] # Filter the model\n",
    "    plt.bar(df_mmlu_model['result'].value_counts().index.sort_values(), df_mmlu_model['result'].value_counts().values)\n",
    "    plt.title('Answer distribution for model ' + model)\n",
    "    plt.xlabel('Answer')\n",
    "    plt.ylabel('Count')\n",
    "    plt.show()\n",
    "        "
   ]
  },
  {
   "cell_type": "code",
   "execution_count": 136,
   "id": "2dc33c49",
   "metadata": {},
   "outputs": [
    {
     "data": {
      "text/html": [
       "<div>\n",
       "<style scoped>\n",
       "    .dataframe tbody tr th:only-of-type {\n",
       "        vertical-align: middle;\n",
       "    }\n",
       "\n",
       "    .dataframe tbody tr th {\n",
       "        vertical-align: top;\n",
       "    }\n",
       "\n",
       "    .dataframe thead th {\n",
       "        text-align: right;\n",
       "    }\n",
       "</style>\n",
       "<table border=\"1\" class=\"dataframe\">\n",
       "  <thead>\n",
       "    <tr style=\"text-align: right;\">\n",
       "      <th></th>\n",
       "      <th></th>\n",
       "      <th>correct</th>\n",
       "    </tr>\n",
       "    <tr>\n",
       "      <th>model_name</th>\n",
       "      <th>result</th>\n",
       "      <th></th>\n",
       "    </tr>\n",
       "  </thead>\n",
       "  <tbody>\n",
       "    <tr>\n",
       "      <th rowspan=\"4\" valign=\"top\">X</th>\n",
       "      <th>A</th>\n",
       "      <td>0.367927</td>\n",
       "    </tr>\n",
       "    <tr>\n",
       "      <th>B</th>\n",
       "      <td>0.884543</td>\n",
       "    </tr>\n",
       "    <tr>\n",
       "      <th>C</th>\n",
       "      <td>1.000000</td>\n",
       "    </tr>\n",
       "    <tr>\n",
       "      <th>D</th>\n",
       "      <td>1.000000</td>\n",
       "    </tr>\n",
       "    <tr>\n",
       "      <th rowspan=\"4\" valign=\"top\">Y</th>\n",
       "      <th>A</th>\n",
       "      <td>0.937500</td>\n",
       "    </tr>\n",
       "    <tr>\n",
       "      <th>B</th>\n",
       "      <td>0.897606</td>\n",
       "    </tr>\n",
       "    <tr>\n",
       "      <th>C</th>\n",
       "      <td>0.827861</td>\n",
       "    </tr>\n",
       "    <tr>\n",
       "      <th>D</th>\n",
       "      <td>0.631608</td>\n",
       "    </tr>\n",
       "    <tr>\n",
       "      <th rowspan=\"4\" valign=\"top\">Z</th>\n",
       "      <th>A</th>\n",
       "      <td>0.476103</td>\n",
       "    </tr>\n",
       "    <tr>\n",
       "      <th>B</th>\n",
       "      <td>0.654073</td>\n",
       "    </tr>\n",
       "    <tr>\n",
       "      <th>C</th>\n",
       "      <td>0.703429</td>\n",
       "    </tr>\n",
       "    <tr>\n",
       "      <th>D</th>\n",
       "      <td>0.727487</td>\n",
       "    </tr>\n",
       "  </tbody>\n",
       "</table>\n",
       "</div>"
      ],
      "text/plain": [
       "                    correct\n",
       "model_name result          \n",
       "X          A       0.367927\n",
       "           B       0.884543\n",
       "           C       1.000000\n",
       "           D       1.000000\n",
       "Y          A       0.937500\n",
       "           B       0.897606\n",
       "           C       0.827861\n",
       "           D       0.631608\n",
       "Z          A       0.476103\n",
       "           B       0.654073\n",
       "           C       0.703429\n",
       "           D       0.727487"
      ]
     },
     "execution_count": 136,
     "metadata": {},
     "output_type": "execute_result"
    }
   ],
   "source": [
    "# A\n",
    "# Accuracy conditioned on the answer\n",
    "df_mmlu.groupby(['model_name', 'result'])[['correct']].mean()"
   ]
  },
  {
   "cell_type": "markdown",
   "id": "65639228",
   "metadata": {},
   "source": [
    "B. \n",
    "(i) We observe that models X and Y choose 'A' more often. Moreover, we notice that the model X answers C or D only when it is sure that it is the correct answer. \n",
    "\n",
    "(ii) We observe that the 3 models rarely choose 'D' as an answer. However, D is the most frequent correct answer. (cf 2.2)\n",
    "\n",
    "(Bonus) We can guess that for each question, the model ouputs a probability for each answer to be true. Then, the model chooses the answer considering a threshold specific for each answer. For instance in model X, we guess that the thresholds for answers C and D are very high while it is very low for A. This could explain the very performant accuracy of answers C and D in model X and the very low accuracy of answer A in model X."
   ]
  },
  {
   "cell_type": "markdown",
   "id": "ce3186fe-ef8e-4af3-9a07-a6081d454e5a",
   "metadata": {},
   "source": [
    "## Task 3 (16 points): What do Questions and Answers look like for a Language Model?\n",
    "\n",
    "While you feel pretty good about the tests you conducted so far, something still bothers you: what if the language models don't see the data like you do? Suddenly, you receive a phone call from a wise AI sage in the West, _Westoda_:\n",
    "\n",
    "```\n",
    "\"Hmm, correct you are, young padawan, to question how the world is seen by large language models! Simple 'text' it is not, hmm? No, no, no! Characters and words, the way of puny humans, this is not, heh heh heh.\n",
    "\n",
    "'Tokens', they use, yes! Mysterious and powerful, these tokens are. Expand our vocabulary, they do, beyond the simple 'a to Z'. Chunky blocks of text, they become, yes! 'Hello world', a simple phrase it may seem. But to a language model, '[24912, 2375]' it might appear, yes! Confusing, it is, hmm?\n",
    "\n",
    "Wise, it would be, to explore these MMLU data points through the eyes of a language model, you think? Yes, yes! Much to learn, there is. The ways of the tokens, understand you must, if truly comprehend the great LMs, you wish to.\n",
    "Meditate on this, you should. The force of natural language processing, strong it is. But patience, you must have, my young padawan. For only through great study and contemplation, will the mysteries of the tokens reveal themselves to you, they will. Yes, hmmm!\"\n",
    "```\n",
    "\n",
    "Admittingly, Westoda at times speaks in riddles… However, he was explaining a crucial aspect of modern LMs called [Tokenization](https://learn.microsoft.com/en-us/dotnet/ai/conceptual/understanding-tokens):\n",
    "\n",
    "\n",
    "“Tokens are words, character sets, or combinations of words and punctuation that are used by [language models (LMs)] to decompose text into. Tokenization is the first step in training”\n",
    "\n",
    "Instead of characters, LMs process natural language using “tokens”. While this is useful for a number of reasons, it does at times introduce some “unintuitive” behavior…"
   ]
  },
  {
   "cell_type": "code",
   "execution_count": 153,
   "id": "e2c66517-938b-4331-9eea-1b23fe4ad9e7",
   "metadata": {},
   "outputs": [
    {
     "name": "stdout",
     "output_type": "stream",
     "text": [
      "humans see: \"hello world\" --> language models see: [24912, 2375]\n"
     ]
    }
   ],
   "source": [
    "# PROVIDED CODE\n",
    "\n",
    "try:\n",
    "    import tiktoken\n",
    "except Exception as e:\n",
    "    print('installing tiktoken package')\n",
    "    \n",
    "    !pip install tiktoken\n",
    "    \n",
    "    import tiktoken\n",
    "\n",
    "def tokenize_text(s):\n",
    "    enc = tiktoken.encoding_for_model('gpt-4o')\n",
    "    tokens = enc.encode(str(s))\n",
    "    return tokens\n",
    "\n",
    "example_string = 'hello world'\n",
    "print(f'humans see: \"{example_string}\" --> language models see: {tokenize_text(example_string)}')"
   ]
  },
  {
   "cell_type": "markdown",
   "id": "3c8019ee-7d52-496f-afff-c96f2f9db08c",
   "metadata": {},
   "source": [
    "### 3.1 (5 pt)\n",
    "\n",
    "Use the provided code in the cell above to \"see the world through the eyes of a language model\":\n",
    "\n",
    "A. Tokenize the questions of the original MMLU data provided in task 1: `task_1/mmlu_data/test.csv` and plot the token distribution (the frequency of each token).\n",
    "\n",
    "B. Same as (A), but now for the answers in columns (columns \"A\", \"B\", \"C\", and \"D\").\n",
    "\n",
    "C. Isolate the tokens for the strings \"A\", \"B\", \"C\", and \"D\", then, for their occurances in both questions and answers, print their relative distribution to each other.\n",
    "\n",
    "**hint**\n",
    "- There are a _lot_ of tokens, consider using a cutoff point and log scale\n",
    "- For (c), they should sum to 1"
   ]
  },
  {
   "cell_type": "code",
   "execution_count": 157,
   "id": "a9a1e97b-3a31-41b1-a9c3-fb84cb1740d9",
   "metadata": {},
   "outputs": [
    {
     "data": {
      "image/png": "[encoded data removed]",
      "text/plain": [
       "<Figure size 640x480 with 1 Axes>"
      ]
     },
     "metadata": {},
     "output_type": "display_data"
    }
   ],
   "source": [
    "# A\n",
    "# Tokenize the questions\n",
    "tokenized_question = df_test['question'].apply(lambda x: tokenize_text(x))\n",
    "# Flatten the list\n",
    "flatten_question_token = [item for sublist in tokenized_question for item in sublist]\n",
    "\n",
    "plt.hist(flatten_question_token, bins=100)\n",
    "plt.yscale('log')\n",
    "plt.title('Token distribution for questions')\n",
    "plt.xlabel('Token')\n",
    "plt.ylabel('Count')\n",
    "plt.show()"
   ]
  },
  {
   "cell_type": "code",
   "execution_count": 158,
   "id": "fe1f8be8",
   "metadata": {},
   "outputs": [
    {
     "data": {
      "image/png": "[encoded data removed]",
      "text/plain": [
       "<Figure size 640x480 with 1 Axes>"
      ]
     },
     "metadata": {},
     "output_type": "display_data"
    }
   ],
   "source": [
    "# B\n",
    "# Tokenize the answers\n",
    "tokenized_answers = df_test[['A','B','C','D']].apply(lambda x: tokenize_text(x))\n",
    "# Flatten the list\n",
    "flatten_answer_token = [item for sublist in tokenized_answers for item in sublist]\n",
    "\n",
    "plt.hist(flatten_answer_token,bins=100)\n",
    "plt.yscale('log')\n",
    "plt.title('Token distribution for A, B, C, D')\n",
    "plt.xlabel('Token')\n",
    "plt.ylabel('Count')\n",
    "plt.show()"
   ]
  },
  {
   "cell_type": "code",
   "execution_count": 162,
   "id": "cd392df7",
   "metadata": {},
   "outputs": [
    {
     "data": {
      "text/html": [
       "<div>\n",
       "<style scoped>\n",
       "    .dataframe tbody tr th:only-of-type {\n",
       "        vertical-align: middle;\n",
       "    }\n",
       "\n",
       "    .dataframe tbody tr th {\n",
       "        vertical-align: top;\n",
       "    }\n",
       "\n",
       "    .dataframe thead th {\n",
       "        text-align: right;\n",
       "    }\n",
       "</style>\n",
       "<table border=\"1\" class=\"dataframe\">\n",
       "  <thead>\n",
       "    <tr style=\"text-align: right;\">\n",
       "      <th></th>\n",
       "      <th>String</th>\n",
       "      <th>token</th>\n",
       "      <th>count</th>\n",
       "      <th>frequency</th>\n",
       "    </tr>\n",
       "  </thead>\n",
       "  <tbody>\n",
       "    <tr>\n",
       "      <th>0</th>\n",
       "      <td>A</td>\n",
       "      <td>32</td>\n",
       "      <td>2689.0</td>\n",
       "      <td>0.804367</td>\n",
       "    </tr>\n",
       "    <tr>\n",
       "      <th>1</th>\n",
       "      <td>B</td>\n",
       "      <td>33</td>\n",
       "      <td>183.0</td>\n",
       "      <td>0.054741</td>\n",
       "    </tr>\n",
       "    <tr>\n",
       "      <th>2</th>\n",
       "      <td>C</td>\n",
       "      <td>34</td>\n",
       "      <td>302.0</td>\n",
       "      <td>0.090338</td>\n",
       "    </tr>\n",
       "    <tr>\n",
       "      <th>3</th>\n",
       "      <td>D</td>\n",
       "      <td>35</td>\n",
       "      <td>169.0</td>\n",
       "      <td>0.050553</td>\n",
       "    </tr>\n",
       "  </tbody>\n",
       "</table>\n",
       "</div>"
      ],
      "text/plain": [
       "  String  token   count  frequency\n",
       "0      A     32  2689.0   0.804367\n",
       "1      B     33   183.0   0.054741\n",
       "2      C     34   302.0   0.090338\n",
       "3      D     35   169.0   0.050553"
      ]
     },
     "execution_count": 162,
     "metadata": {},
     "output_type": "execute_result"
    }
   ],
   "source": [
    "# C\n",
    "token_list = [tokenize_text(s) for s in ['A', 'B', 'C', 'D']]\n",
    "token_list = [item for sublist in token_list for item in sublist]\n",
    "tokenized_A = df_test['A'].apply(lambda x: tokenize_text(x))\n",
    "tokenized_B = df_test['B'].apply(lambda x: tokenize_text(x))\n",
    "tokenized_C = df_test['C'].apply(lambda x: tokenize_text(x))\n",
    "tokenized_D = df_test['D'].apply(lambda x: tokenize_text(x))\n",
    "\n",
    "# As discuss on Ed, we concatenate question and answers tokens\n",
    "tokenized_question_answers = tokenized_question + tokenized_A + tokenized_B + tokenized_C + tokenized_D\n",
    "df_token_count = pd.DataFrame({'String':['A','B','C','D'],'token': token_list})\n",
    "\n",
    "# For each searched token\n",
    "for token in token_list:\n",
    "    count = 0\n",
    "    for tokens in tokenized_question_answers: # for each pair of question-answers\n",
    "        if token in tokens:\n",
    "            count += 1\n",
    "    df_token_count.loc[df_token_count['token'] == token, 'count'] = count\n",
    "    \n",
    "# Compute the frequency relatively to the other tokens\n",
    "df_token_count['frequency'] = df_token_count['count']/df_token_count['count'].sum()\n",
    "df_token_count"
   ]
  },
  {
   "cell_type": "markdown",
   "id": "a674929c-68e1-4cd8-97b3-efa0cdae4874",
   "metadata": {},
   "source": [
    "### 3.2 (3 pt)\n",
    "\n",
    "What if the number of \"A\", \"B\", \"C\", and \"D\" tokens in the question and answer pairs could influence a language model's decisions?\n",
    "\n",
    "A. For each combined question-answers pair, compute: \n",
    "1. the number of \"A\", \"B\", \"C\", and \"D\" tokens; and\n",
    "2. the total number of tokens.\n",
    "3. then, group by the \"correct\" answer and compute the mean frequency of A, B, C, and D tokens and the total number of tokens. \n",
    "4. finally, print your results\n",
    "\n",
    "B. /Discuss:/ What do you think of the hypothesis that the frequency of A, B, C, and D tokens could influence answers?\n"
   ]
  },
  {
   "cell_type": "code",
   "execution_count": 169,
   "id": "25419cc1-f058-4c51-a0aa-577272b8b578",
   "metadata": {},
   "outputs": [
    {
     "data": {
      "text/html": [
       "<div>\n",
       "<style scoped>\n",
       "    .dataframe tbody tr th:only-of-type {\n",
       "        vertical-align: middle;\n",
       "    }\n",
       "\n",
       "    .dataframe tbody tr th {\n",
       "        vertical-align: top;\n",
       "    }\n",
       "\n",
       "    .dataframe thead th {\n",
       "        text-align: right;\n",
       "    }\n",
       "</style>\n",
       "<table border=\"1\" class=\"dataframe\">\n",
       "  <thead>\n",
       "    <tr style=\"text-align: right;\">\n",
       "      <th></th>\n",
       "      <th>frequency_A</th>\n",
       "      <th>frequency_B</th>\n",
       "      <th>frequency_C</th>\n",
       "      <th>frequency_D</th>\n",
       "      <th>total_number_tokens</th>\n",
       "    </tr>\n",
       "    <tr>\n",
       "      <th>answer</th>\n",
       "      <th></th>\n",
       "      <th></th>\n",
       "      <th></th>\n",
       "      <th></th>\n",
       "      <th></th>\n",
       "    </tr>\n",
       "  </thead>\n",
       "  <tbody>\n",
       "    <tr>\n",
       "      <th>A</th>\n",
       "      <td>0.003267</td>\n",
       "      <td>0.000414</td>\n",
       "      <td>0.000451</td>\n",
       "      <td>0.000294</td>\n",
       "      <td>93.208566</td>\n",
       "    </tr>\n",
       "    <tr>\n",
       "      <th>B</th>\n",
       "      <td>0.002916</td>\n",
       "      <td>0.000400</td>\n",
       "      <td>0.000556</td>\n",
       "      <td>0.000299</td>\n",
       "      <td>88.863951</td>\n",
       "    </tr>\n",
       "    <tr>\n",
       "      <th>C</th>\n",
       "      <td>0.002794</td>\n",
       "      <td>0.000341</td>\n",
       "      <td>0.000677</td>\n",
       "      <td>0.000318</td>\n",
       "      <td>92.675879</td>\n",
       "    </tr>\n",
       "    <tr>\n",
       "      <th>D</th>\n",
       "      <td>0.003093</td>\n",
       "      <td>0.000291</td>\n",
       "      <td>0.000572</td>\n",
       "      <td>0.000267</td>\n",
       "      <td>92.132415</td>\n",
       "    </tr>\n",
       "  </tbody>\n",
       "</table>\n",
       "</div>"
      ],
      "text/plain": [
       "        frequency_A  frequency_B  frequency_C  frequency_D  \\\n",
       "answer                                                       \n",
       "A          0.003267     0.000414     0.000451     0.000294   \n",
       "B          0.002916     0.000400     0.000556     0.000299   \n",
       "C          0.002794     0.000341     0.000677     0.000318   \n",
       "D          0.003093     0.000291     0.000572     0.000267   \n",
       "\n",
       "        total_number_tokens  \n",
       "answer                       \n",
       "A                 93.208566  \n",
       "B                 88.863951  \n",
       "C                 92.675879  \n",
       "D                 92.132415  "
      ]
     },
     "execution_count": 169,
     "metadata": {},
     "output_type": "execute_result"
    }
   ],
   "source": [
    "# A\n",
    "df_test_token = df_test.copy()\n",
    "\n",
    "# Create new columns with the tokenized text\n",
    "df_test_token['question_token'] = df_test_token['question'].apply(lambda x: tokenize_text(x))\n",
    "df_test_token['A_token'] = df_test_token['A'].apply(lambda x: tokenize_text(x))\n",
    "df_test_token['B_token'] = df_test_token['B'].apply(lambda x: tokenize_text(x))\n",
    "df_test_token['C_token'] = df_test_token['C'].apply(lambda x: tokenize_text(x))\n",
    "df_test_token['D_token'] = df_test_token['D'].apply(lambda x: tokenize_text(x))\n",
    "\n",
    "# Create new column with the concatenation of the tokens (question-answers pair)\n",
    "df_test_token['question_answer_token'] = df_test_token['question_token'] + df_test_token['A_token'] + df_test_token['B_token'] + df_test_token['C_token'] + df_test_token['D_token']\n",
    "\n",
    "# Compute the number of each searched token in each question-answers pair\n",
    "df_test_token['count_A'] = df_test_token['question_answer_token'].apply(lambda x: x.count(token_list[0]))\n",
    "df_test_token['count_B'] = df_test_token['question_answer_token'].apply(lambda x: x.count(token_list[1]))\n",
    "df_test_token['count_C'] = df_test_token['question_answer_token'].apply(lambda x: x.count(token_list[2]))\n",
    "df_test_token['count_D'] = df_test_token['question_answer_token'].apply(lambda x: x.count(token_list[3]))\n",
    "df_test_token['total_number_tokens'] = df_test_token['question_answer_token'].apply(lambda x: len(x))\n",
    "\n",
    "# Compute the frequency of each searched token\n",
    "df_test_token['frequency_A'] = df_test_token['count_A']/df_test_token['total_number_tokens']\n",
    "df_test_token['frequency_B'] = df_test_token['count_B']/df_test_token['total_number_tokens']\n",
    "df_test_token['frequency_C'] = df_test_token['count_C']/df_test_token['total_number_tokens']\n",
    "df_test_token['frequency_D'] = df_test_token['count_D']/df_test_token['total_number_tokens']\n",
    "\n",
    "# Group by \"correct\" answer and compute the mean frequency of A, B, C and D and the total number of tokens\n",
    "df_test_token.groupby('answer')[['frequency_A', 'frequency_B', 'frequency_C', 'frequency_D', 'total_number_tokens']].mean()"
   ]
  },
  {
   "cell_type": "markdown",
   "id": "3ea8a279",
   "metadata": {},
   "source": [
    "B. As we see in the previous table, the frequency of A, B, C and D tokens is quite different conditionned on the correct answer. For instance, when correct answer is A, the frequency of A token in question-answers pairs is almost 10 times higher than the frequency of B, C and D tokens. This could lead to a bias in the model's decision."
   ]
  },
  {
   "cell_type": "markdown",
   "id": "af25ef95-d2ce-4112-87f7-8b0a52755e2a",
   "metadata": {},
   "source": [
    "### 3.3 (4 pt)\n",
    "\n",
    "Three of the most important considerations when deciding between language models are:\n",
    "\n",
    "Quality\n",
    "Costs\n",
    "Speed\n",
    "\n",
    "So far, much of your analysis has focused on quality. However, the government has indicated that they are quite concerned about both the total costs and speed as well. Specifically, it has been brought to their attention that a new `turbo` model has been launched! \n",
    "\n",
    "This model is both cheaper and faster than the models you evaluated so far. However, there is a catch: the context length* is much smaller than that of the other LMS. Namely, it can only process **300** tokens during inference. Meanwhile, the other models can process up to 100K tokens! \n",
    "\n",
    "*_The “context length” refers to the number of tokens that can be given to an LM as input._\n",
    "\n",
    "A. Are there subjects where using the cheaper model might be problematic? I.e., where part of the question and answer(s) might not fit completely in the context?\n",
    "\n",
    "B. /Discuss:/ Can you think of a strategy that would balance the needs of the government?\n",
    "\n",
    "**hint**:\n",
    "- An LM needs to have both the question and the different answer options in its context"
   ]
  },
  {
   "cell_type": "code",
   "execution_count": 177,
   "id": "a88a6fa3-2735-44d7-9944-076cc9f679ed",
   "metadata": {},
   "outputs": [
    {
     "data": {
      "text/plain": [
       "Text(0, 0.5, 'Frequency')"
      ]
     },
     "execution_count": 177,
     "metadata": {},
     "output_type": "execute_result"
    },
    {
     "data": {
      "image/png": "[encoded data removed]",
      "text/plain": [
       "<Figure size 640x480 with 1 Axes>"
      ]
     },
     "metadata": {},
     "output_type": "display_data"
    }
   ],
   "source": [
    "# A\n",
    "# Filter the question-answers pair with more than 300 tokens\n",
    "long_token_subject = df_test_token[df_test_token['total_number_tokens'] > 300].subject.value_counts()/df_test_token.subject.value_counts()\n",
    "# Drop NaN values caused by the absence of large number of tokens for these subjects\n",
    "long_token_subject = long_token_subject.dropna()\n",
    "plt.bar(long_token_subject.index, long_token_subject.values)\n",
    "plt.title('Proportion of long token question_answers for subjects with more than 300 tokens')\n",
    "plt.xticks(rotation=90)\n",
    "plt.ylabel('Frequency')\n",
    "\n"
   ]
  },
  {
   "cell_type": "markdown",
   "id": "0405c79b",
   "metadata": {},
   "source": [
    "A. In our dataset, we see that subjects like 'Professional law', 'History' or 'Medecine' have a proportion of question_answers pair which often exceed the 300 tokens limit. In these cases, the cheaper model might be problematic."
   ]
  },
  {
   "cell_type": "markdown",
   "id": "47f8a44a",
   "metadata": {},
   "source": [
    "B. For the problematic subjects, we could use the LMS models, which will have a better performance than the turbo model. For the other subjects, we could use the turbo model, which is cheaper and faster. This could be a good compromise between quality, costs and speed for the needs of the government. (Otherwise, we could only study mathematics and computer science to avoid this kind of problems with history and law :)"
   ]
  },
  {
   "cell_type": "markdown",
   "id": "110f07bf-558f-467c-8f66-d88db561d455",
   "metadata": {},
   "source": [
    "### 3.4 (4 pt)\n",
    "\n",
    "/Discuss:/ The time has come to give your final recommendation on the use of LMs in education to the government! Taking into account everything you analyzed in all the preceding tasks (1, 2, and 3), please write a short recommendation consisting of 4 bullet points discussing your concerns.\n",
    "\n",
    "**hint**\n",
    "- Try to use the MECE framework: _Mutually Exclusive Collectively Exhaustive_"
   ]
  },
  {
   "cell_type": "markdown",
   "id": "434a5fa5",
   "metadata": {},
   "source": [
    "1. The computational power of LMs is directly tied to the number of tokens they need to process, forcing a trade-off between quality and cost/speed.\n",
    "\n",
    "2. Using LMs across all fields may not be suitable, as it risks creating a two-speed system between humanity fields and sciences.\n",
    "\n",
    "3. Biases have been observed within LMs, which could also influence learning if not addressed properly.\n",
    "\n",
    "4. Even with the use of LMs, it is essential to verify the accuracy of results, and maintaining critical thinking among students remains crucial."
   ]
  }
 ],
 "metadata": {
  "kernelspec": {
   "display_name": "ada",
   "language": "python",
   "name": "python3"
  },
  "language_info": {
   "codemirror_mode": {
    "name": "ipython",
    "version": 3
   },
   "file_extension": ".py",
   "mimetype": "text/x-python",
   "name": "python",
   "nbconvert_exporter": "python",
   "pygments_lexer": "ipython3",
   "version": "3.11.9"
  }
 },
 "nbformat": 4,
 "nbformat_minor": 5
}
